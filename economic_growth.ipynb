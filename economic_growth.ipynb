{
 "cells": [
  {
   "cell_type": "markdown",
   "id": "caa82b549e6ce97d",
   "metadata": {
    "collapsed": false,
    "jupyter": {
     "outputs_hidden": false
    }
   },
   "source": [
    "# Obtención de Información Macroeconómica - API Banco Mundial\n",
    "\n",
    "El Banco Mundial cuenta con una API pública de la cual se pueden descargar los principales indicadores macroecónomicos para la mayoría de países del mundo. La API es bastante completa y cuenta con indicadores que son actualizados permanentemente. <cite>[Banco Mundial][1]</cite>\n",
    "\n",
    "En este corto ejercicio replicaremos la ya conocida relación entre la expectativa de vida de los habitantes de un país y su Producto Interno Bruto per Cápita (PIB per Cápita). Esta relación es uno de los principales argumentos de los economistas ortodoxos sobre la utilización del PIB como medida de bienestar social.\n",
    "\n",
    "[1]: https://blogs.worldbank.org/opendata/introducing-wbgapi-new-python-package-accessing-world-bank-data"
   ]
  },
  {
   "cell_type": "code",
   "execution_count": 2,
   "id": "initial_id",
   "metadata": {
    "ExecuteTime": {
     "start_time": "2023-12-23T13:41:27.344029500Z"
    },
    "is_executing": true
   },
   "outputs": [],
   "source": [
    "import pandas as pd\n",
    "import matplotlib.pyplot as plt\n",
    "import wbgapi as wb\n",
    "import seaborn as sns\n",
    "import statsmodels.formula.api as smf\n",
    "\n"
   ]
  },
  {
   "cell_type": "markdown",
   "id": "fbe5324e4af66e9f",
   "metadata": {
    "collapsed": false,
    "jupyter": {
     "outputs_hidden": false
    }
   },
   "source": [
    "## Descarga y Procesamiento de Datos\n",
    "\n",
    "Con la instrucción `pd.DataFrame(wb.source.list())` creamos un DataFrame el cual contiene toda las fuentes de información disponibles en la API junto con su fecha última actualización.\n",
    "\n",
    "La instrucción `pd.DataFrame(wb.series.info().list())` permite obtener todas las variables disponibles en la API y en qué fuente se encuentran.\n",
    "\n",
    "Por último, la instrucción `pd.DataFrame(wb.economy.info().list()` presenta la lista de países para los que la API cuenta con información y los códigos que deben utilizarse al momento de solicitar la información junto su información básica como ubicación geográfica y ciudad capital.\n",
    "\n",
    "Las demás instrucciones son para guardar de manera local estos datos de manera que puedan ser utilizados como futura referencia."
   ]
  },
  {
   "cell_type": "code",
   "execution_count": 4,
   "id": "5b4b82ecf98d903b",
   "metadata": {
    "collapsed": false,
    "jupyter": {
     "outputs_hidden": false
    }
   },
   "outputs": [],
   "source": [
    "df_sources = pd.DataFrame(wb.source.list())\n",
    "df_series = pd.DataFrame(wb.series.list())\n",
    "df_economies = pd.DataFrame(wb.economy.list())\n",
    "\n",
    "# df_sources.to_excel('df_sources.xlsx', index=False)\n",
    "# df_series.to_excel('df_series.xlsx', index=False)\n",
    "# df_economies.to_excel('df_economies.xlsx', index=False)"
   ]
  },
  {
   "cell_type": "markdown",
   "id": "f306c1245fcf895a",
   "metadata": {
    "collapsed": false,
    "jupyter": {
     "outputs_hidden": false
    }
   },
   "source": [
    "Ahora busquemos las variables que tienen *GDP* como parte de su nombre"
   ]
  },
  {
   "cell_type": "code",
   "execution_count": 5,
   "id": "e06a5936c1e21f00",
   "metadata": {
    "ExecuteTime": {
     "end_time": "2023-12-22T21:26:41.001833600Z",
     "start_time": "2023-12-22T21:26:40.996794300Z"
    },
    "collapsed": false,
    "jupyter": {
     "outputs_hidden": false
    }
   },
   "outputs": [],
   "source": [
    "idx_gdp = list(map(lambda x: True if 'GDP' in x else False, df_series.value))"
   ]
  },
  {
   "cell_type": "code",
   "execution_count": 6,
   "id": "923ace197fae9cc3",
   "metadata": {
    "ExecuteTime": {
     "end_time": "2023-12-22T21:28:10.054347500Z",
     "start_time": "2023-12-22T21:28:09.899679500Z"
    },
    "collapsed": false,
    "jupyter": {
     "outputs_hidden": false
    }
   },
   "outputs": [
    {
     "data": {
      "text/html": [
       "<div>\n",
       "<style scoped>\n",
       "    .dataframe tbody tr th:only-of-type {\n",
       "        vertical-align: middle;\n",
       "    }\n",
       "\n",
       "    .dataframe tbody tr th {\n",
       "        vertical-align: top;\n",
       "    }\n",
       "\n",
       "    .dataframe thead th {\n",
       "        text-align: right;\n",
       "    }\n",
       "</style>\n",
       "<table border=\"1\" class=\"dataframe\">\n",
       "  <thead>\n",
       "    <tr style=\"text-align: right;\">\n",
       "      <th></th>\n",
       "      <th>id</th>\n",
       "      <th>value</th>\n",
       "    </tr>\n",
       "  </thead>\n",
       "  <tbody>\n",
       "    <tr>\n",
       "      <th>618</th>\n",
       "      <td>NV.AGR.TOTL.ZS</td>\n",
       "      <td>Agriculture, forestry, and fishing, value adde...</td>\n",
       "    </tr>\n",
       "    <tr>\n",
       "      <th>321</th>\n",
       "      <td>FM.LBL.BMNY.GD.ZS</td>\n",
       "      <td>Broad money (% of GDP)</td>\n",
       "    </tr>\n",
       "    <tr>\n",
       "      <th>231</th>\n",
       "      <td>EN.ATM.CO2E.KD.GD</td>\n",
       "      <td>CO2 emissions (kg per 2015 US$ of GDP)</td>\n",
       "    </tr>\n",
       "    <tr>\n",
       "      <th>237</th>\n",
       "      <td>EN.ATM.CO2E.PP.GD.KD</td>\n",
       "      <td>CO2 emissions (kg per 2017 PPP $ of GDP)</td>\n",
       "    </tr>\n",
       "    <tr>\n",
       "      <th>236</th>\n",
       "      <td>EN.ATM.CO2E.PP.GD</td>\n",
       "      <td>CO2 emissions (kg per PPP $ of GDP)</td>\n",
       "    </tr>\n",
       "    <tr>\n",
       "      <th>...</th>\n",
       "      <td>...</td>\n",
       "      <td>...</td>\n",
       "    </tr>\n",
       "    <tr>\n",
       "      <th>374</th>\n",
       "      <td>GC.TAX.TOTL.GD.ZS</td>\n",
       "      <td>Tax revenue (% of GDP)</td>\n",
       "    </tr>\n",
       "    <tr>\n",
       "      <th>706</th>\n",
       "      <td>NY.GDP.TOTL.RT.ZS</td>\n",
       "      <td>Total natural resources rents (% of GDP)</td>\n",
       "    </tr>\n",
       "    <tr>\n",
       "      <th>611</th>\n",
       "      <td>NE.TRD.GNFS.ZS</td>\n",
       "      <td>Trade (% of GDP)</td>\n",
       "    </tr>\n",
       "    <tr>\n",
       "      <th>29</th>\n",
       "      <td>BG.GSR.NFSV.GD.ZS</td>\n",
       "      <td>Trade in services (% of GDP)</td>\n",
       "    </tr>\n",
       "    <tr>\n",
       "      <th>290</th>\n",
       "      <td>ER.GDP.FWTL.M3.KD</td>\n",
       "      <td>Water productivity, total (constant 2015 US$ G...</td>\n",
       "    </tr>\n",
       "  </tbody>\n",
       "</table>\n",
       "<p>86 rows × 2 columns</p>\n",
       "</div>"
      ],
      "text/plain": [
       "                       id                                              value\n",
       "618        NV.AGR.TOTL.ZS  Agriculture, forestry, and fishing, value adde...\n",
       "321     FM.LBL.BMNY.GD.ZS                             Broad money (% of GDP)\n",
       "231     EN.ATM.CO2E.KD.GD             CO2 emissions (kg per 2015 US$ of GDP)\n",
       "237  EN.ATM.CO2E.PP.GD.KD           CO2 emissions (kg per 2017 PPP $ of GDP)\n",
       "236     EN.ATM.CO2E.PP.GD                CO2 emissions (kg per PPP $ of GDP)\n",
       "..                    ...                                                ...\n",
       "374     GC.TAX.TOTL.GD.ZS                             Tax revenue (% of GDP)\n",
       "706     NY.GDP.TOTL.RT.ZS           Total natural resources rents (% of GDP)\n",
       "611        NE.TRD.GNFS.ZS                                   Trade (% of GDP)\n",
       "29      BG.GSR.NFSV.GD.ZS                       Trade in services (% of GDP)\n",
       "290     ER.GDP.FWTL.M3.KD  Water productivity, total (constant 2015 US$ G...\n",
       "\n",
       "[86 rows x 2 columns]"
      ]
     },
     "execution_count": 6,
     "metadata": {},
     "output_type": "execute_result"
    }
   ],
   "source": [
    "df_series[idx_gdp].sort_values(by='value')"
   ]
  },
  {
   "cell_type": "markdown",
   "id": "fbf7ef3340c974b8",
   "metadata": {
    "collapsed": false,
    "jupyter": {
     "outputs_hidden": false
    }
   },
   "source": [
    "Una de los principios básicos cuando se está analizando la actividad económica de un país es utilizar en valores en términos reales o por lo menos constantes; es por eso que utilizaremos la variables `NY.GDP.PCAP.KD - GDP per capita (constant 2015 US$)`, así el análisis no se verá afectado por choques inflacionarios o deflacionarios puntuales; sin embargo, estos valores no se escapan de las dinámicas de la tasa de cambio.\n",
    "\n",
    "En las siguientes líneas, traemos la información del PIB per Cápita de todos los países correspondientes a la región `LCN`, es decir, América Latina y el Caribe."
   ]
  },
  {
   "cell_type": "code",
   "execution_count": 8,
   "id": "180dc872cd4a09e3",
   "metadata": {
    "ExecuteTime": {
     "end_time": "2023-12-22T21:58:37.628959600Z",
     "start_time": "2023-12-22T21:58:33.608722500Z"
    },
    "collapsed": false,
    "jupyter": {
     "outputs_hidden": false
    }
   },
   "outputs": [
    {
     "data": {
      "text/html": [
       "<div>\n",
       "<style scoped>\n",
       "    .dataframe tbody tr th:only-of-type {\n",
       "        vertical-align: middle;\n",
       "    }\n",
       "\n",
       "    .dataframe tbody tr th {\n",
       "        vertical-align: top;\n",
       "    }\n",
       "\n",
       "    .dataframe thead th {\n",
       "        text-align: right;\n",
       "    }\n",
       "</style>\n",
       "<table border=\"1\" class=\"dataframe\">\n",
       "  <thead>\n",
       "    <tr style=\"text-align: right;\">\n",
       "      <th></th>\n",
       "      <th>YR1960</th>\n",
       "      <th>YR1961</th>\n",
       "      <th>YR1962</th>\n",
       "      <th>YR1963</th>\n",
       "      <th>YR1964</th>\n",
       "      <th>YR1965</th>\n",
       "      <th>YR1966</th>\n",
       "      <th>YR1967</th>\n",
       "      <th>YR1968</th>\n",
       "      <th>YR1969</th>\n",
       "    </tr>\n",
       "    <tr>\n",
       "      <th>economy</th>\n",
       "      <th></th>\n",
       "      <th></th>\n",
       "      <th></th>\n",
       "      <th></th>\n",
       "      <th></th>\n",
       "      <th></th>\n",
       "      <th></th>\n",
       "      <th></th>\n",
       "      <th></th>\n",
       "      <th></th>\n",
       "    </tr>\n",
       "  </thead>\n",
       "  <tbody>\n",
       "    <tr>\n",
       "      <th>ABW</th>\n",
       "      <td>NaN</td>\n",
       "      <td>NaN</td>\n",
       "      <td>NaN</td>\n",
       "      <td>NaN</td>\n",
       "      <td>NaN</td>\n",
       "      <td>NaN</td>\n",
       "      <td>NaN</td>\n",
       "      <td>NaN</td>\n",
       "      <td>NaN</td>\n",
       "      <td>NaN</td>\n",
       "    </tr>\n",
       "    <tr>\n",
       "      <th>ARG</th>\n",
       "      <td>7410.305029</td>\n",
       "      <td>7687.517338</td>\n",
       "      <td>7498.840061</td>\n",
       "      <td>6986.564802</td>\n",
       "      <td>7572.231166</td>\n",
       "      <td>8241.529337</td>\n",
       "      <td>8059.450431</td>\n",
       "      <td>8187.373351</td>\n",
       "      <td>8450.037064</td>\n",
       "      <td>9126.186479</td>\n",
       "    </tr>\n",
       "    <tr>\n",
       "      <th>ATG</th>\n",
       "      <td>NaN</td>\n",
       "      <td>NaN</td>\n",
       "      <td>NaN</td>\n",
       "      <td>NaN</td>\n",
       "      <td>NaN</td>\n",
       "      <td>NaN</td>\n",
       "      <td>NaN</td>\n",
       "      <td>NaN</td>\n",
       "      <td>NaN</td>\n",
       "      <td>NaN</td>\n",
       "    </tr>\n",
       "    <tr>\n",
       "      <th>BHS</th>\n",
       "      <td>19072.904739</td>\n",
       "      <td>20103.819316</td>\n",
       "      <td>21134.587525</td>\n",
       "      <td>22243.334434</td>\n",
       "      <td>23490.758406</td>\n",
       "      <td>24853.858455</td>\n",
       "      <td>25948.805578</td>\n",
       "      <td>27203.648304</td>\n",
       "      <td>28200.664466</td>\n",
       "      <td>29436.746325</td>\n",
       "    </tr>\n",
       "    <tr>\n",
       "      <th>BLZ</th>\n",
       "      <td>1558.791461</td>\n",
       "      <td>1593.999864</td>\n",
       "      <td>1629.731855</td>\n",
       "      <td>1664.242945</td>\n",
       "      <td>1697.487597</td>\n",
       "      <td>1729.092008</td>\n",
       "      <td>1757.536191</td>\n",
       "      <td>1788.459135</td>\n",
       "      <td>1863.126615</td>\n",
       "      <td>1903.235521</td>\n",
       "    </tr>\n",
       "  </tbody>\n",
       "</table>\n",
       "</div>"
      ],
      "text/plain": [
       "               YR1960        YR1961        YR1962        YR1963        YR1964  \\\n",
       "economy                                                                         \n",
       "ABW               NaN           NaN           NaN           NaN           NaN   \n",
       "ARG       7410.305029   7687.517338   7498.840061   6986.564802   7572.231166   \n",
       "ATG               NaN           NaN           NaN           NaN           NaN   \n",
       "BHS      19072.904739  20103.819316  21134.587525  22243.334434  23490.758406   \n",
       "BLZ       1558.791461   1593.999864   1629.731855   1664.242945   1697.487597   \n",
       "\n",
       "               YR1965        YR1966        YR1967        YR1968        YR1969  \n",
       "economy                                                                        \n",
       "ABW               NaN           NaN           NaN           NaN           NaN  \n",
       "ARG       8241.529337   8059.450431   8187.373351   8450.037064   9126.186479  \n",
       "ATG               NaN           NaN           NaN           NaN           NaN  \n",
       "BHS      24853.858455  25948.805578  27203.648304  28200.664466  29436.746325  \n",
       "BLZ       1729.092008   1757.536191   1788.459135   1863.126615   1903.235521  "
      ]
     },
     "execution_count": 8,
     "metadata": {},
     "output_type": "execute_result"
    }
   ],
   "source": [
    "code = 'NY.GDP.PCAP.KD'\n",
    "idx_countries = df_economies.region == 'LCN'\n",
    "countries = df_economies[idx_countries]['id'].values\n",
    "df_gdp = wb.data.DataFrame(code, countries)\n",
    "df_gdp.head().iloc[:, 0:10] # sólo las primeras columnas, por presentación"
   ]
  },
  {
   "cell_type": "markdown",
   "id": "578cc62110fa52ef",
   "metadata": {
    "collapsed": false,
    "jupyter": {
     "outputs_hidden": false
    }
   },
   "source": [
    "Se puede ver que hay datos desde 1966 hasta 2022, dado que no todos tienen registros, tomemos solamente los países que tengan registros a partir de 1980."
   ]
  },
  {
   "cell_type": "code",
   "execution_count": 9,
   "id": "3c38eae49c3ee",
   "metadata": {
    "ExecuteTime": {
     "end_time": "2023-12-22T21:58:55.196531Z",
     "start_time": "2023-12-22T21:58:55.185038500Z"
    },
    "collapsed": false,
    "jupyter": {
     "outputs_hidden": false
    }
   },
   "outputs": [],
   "source": [
    "pos_1980 = df_gdp.columns.get_loc('YR1980')\n",
    "\n",
    "df_gdp = df_gdp.iloc[:, pos_1980:]\n",
    "df_gdp.dropna(how='any', inplace=True)"
   ]
  },
  {
   "cell_type": "markdown",
   "id": "83336c18094db172",
   "metadata": {
    "collapsed": false,
    "jupyter": {
     "outputs_hidden": false
    }
   },
   "source": [
    "Ahora hacemos lo mismo pero para la variable expectativa de vida, revisando las series vemos que su identificador es `SP.DYN.LE00.IN`; nótese que incluso se podrían obtener los valores diferenciados por hombres y mujeres, algo importante dependiendo de la situación del estado en cuestión (i.e., una guerra)."
   ]
  },
  {
   "cell_type": "code",
   "execution_count": 10,
   "id": "6e0686ca2b6d32ea",
   "metadata": {
    "ExecuteTime": {
     "end_time": "2023-12-22T21:59:00.492777500Z",
     "start_time": "2023-12-22T21:59:00.476401500Z"
    },
    "collapsed": false,
    "jupyter": {
     "outputs_hidden": false
    }
   },
   "outputs": [
    {
     "data": {
      "text/html": [
       "<div>\n",
       "<style scoped>\n",
       "    .dataframe tbody tr th:only-of-type {\n",
       "        vertical-align: middle;\n",
       "    }\n",
       "\n",
       "    .dataframe tbody tr th {\n",
       "        vertical-align: top;\n",
       "    }\n",
       "\n",
       "    .dataframe thead th {\n",
       "        text-align: right;\n",
       "    }\n",
       "</style>\n",
       "<table border=\"1\" class=\"dataframe\">\n",
       "  <thead>\n",
       "    <tr style=\"text-align: right;\">\n",
       "      <th></th>\n",
       "      <th>id</th>\n",
       "      <th>value</th>\n",
       "    </tr>\n",
       "  </thead>\n",
       "  <tbody>\n",
       "    <tr>\n",
       "      <th>1292</th>\n",
       "      <td>SP.DYN.LE00.FE.IN</td>\n",
       "      <td>Life expectancy at birth, female (years)</td>\n",
       "    </tr>\n",
       "    <tr>\n",
       "      <th>1293</th>\n",
       "      <td>SP.DYN.LE00.IN</td>\n",
       "      <td>Life expectancy at birth, total (years)</td>\n",
       "    </tr>\n",
       "    <tr>\n",
       "      <th>1294</th>\n",
       "      <td>SP.DYN.LE00.MA.IN</td>\n",
       "      <td>Life expectancy at birth, male (years)</td>\n",
       "    </tr>\n",
       "  </tbody>\n",
       "</table>\n",
       "</div>"
      ],
      "text/plain": [
       "                     id                                     value\n",
       "1292  SP.DYN.LE00.FE.IN  Life expectancy at birth, female (years)\n",
       "1293     SP.DYN.LE00.IN   Life expectancy at birth, total (years)\n",
       "1294  SP.DYN.LE00.MA.IN    Life expectancy at birth, male (years)"
      ]
     },
     "execution_count": 10,
     "metadata": {},
     "output_type": "execute_result"
    }
   ],
   "source": [
    "idx_exp = list(map(lambda x: True if 'expectancy' in x else False, df_series.value))\n",
    "df_series[idx_exp]"
   ]
  },
  {
   "cell_type": "code",
   "execution_count": 11,
   "id": "2bc56758a5b706f5",
   "metadata": {
    "ExecuteTime": {
     "end_time": "2023-12-22T21:59:02.152595Z",
     "start_time": "2023-12-22T21:59:02.144568800Z"
    },
    "collapsed": false,
    "jupyter": {
     "outputs_hidden": false
    }
   },
   "outputs": [],
   "source": [
    "code = 'SP.DYN.LE00.IN'"
   ]
  },
  {
   "cell_type": "code",
   "execution_count": 12,
   "id": "76feadb07ab01440",
   "metadata": {
    "ExecuteTime": {
     "end_time": "2023-12-22T21:59:11.262883500Z",
     "start_time": "2023-12-22T21:59:07.711207700Z"
    },
    "collapsed": false,
    "jupyter": {
     "outputs_hidden": false
    }
   },
   "outputs": [],
   "source": [
    "idx_countries = df_economies.region == 'LCN'\n",
    "countries = df_economies[idx_countries]['id'].values\n",
    "df_expectancy = wb.data.DataFrame(code, countries)\n"
   ]
  },
  {
   "cell_type": "markdown",
   "id": "e5a902360025f527",
   "metadata": {
    "collapsed": false,
    "jupyter": {
     "outputs_hidden": false
    }
   },
   "source": [
    "En este caso vemos que no hay aún información para 2022, por lo que el filtro debe ser modificado para tener en cuenta esto"
   ]
  },
  {
   "cell_type": "code",
   "execution_count": 13,
   "id": "796882ab5e232beb",
   "metadata": {
    "ExecuteTime": {
     "end_time": "2023-12-22T22:01:32.711445100Z",
     "start_time": "2023-12-22T22:01:32.697552200Z"
    },
    "collapsed": false,
    "jupyter": {
     "outputs_hidden": false
    }
   },
   "outputs": [],
   "source": [
    "pos_1980 = df_expectancy.columns.get_loc('YR1980')\n",
    "pos_2022 = df_expectancy.columns.get_loc('YR2022')\n",
    "\n",
    "df_expectancy = df_expectancy.iloc[:, pos_1980:pos_2022]\n",
    "df_expectancy.dropna(how='any', inplace=True)"
   ]
  },
  {
   "cell_type": "code",
   "execution_count": 14,
   "id": "3c380b2d1698df27",
   "metadata": {
    "ExecuteTime": {
     "end_time": "2023-12-22T22:01:35.520568300Z",
     "start_time": "2023-12-22T22:01:35.479033900Z"
    },
    "collapsed": false,
    "jupyter": {
     "outputs_hidden": false
    }
   },
   "outputs": [
    {
     "data": {
      "text/html": [
       "<div>\n",
       "<style scoped>\n",
       "    .dataframe tbody tr th:only-of-type {\n",
       "        vertical-align: middle;\n",
       "    }\n",
       "\n",
       "    .dataframe tbody tr th {\n",
       "        vertical-align: top;\n",
       "    }\n",
       "\n",
       "    .dataframe thead th {\n",
       "        text-align: right;\n",
       "    }\n",
       "</style>\n",
       "<table border=\"1\" class=\"dataframe\">\n",
       "  <thead>\n",
       "    <tr style=\"text-align: right;\">\n",
       "      <th></th>\n",
       "      <th>YR1980</th>\n",
       "      <th>YR1981</th>\n",
       "      <th>YR1982</th>\n",
       "      <th>YR1983</th>\n",
       "      <th>YR1984</th>\n",
       "      <th>YR1985</th>\n",
       "      <th>YR1986</th>\n",
       "      <th>YR1987</th>\n",
       "      <th>YR1988</th>\n",
       "      <th>YR1989</th>\n",
       "    </tr>\n",
       "    <tr>\n",
       "      <th>economy</th>\n",
       "      <th></th>\n",
       "      <th></th>\n",
       "      <th></th>\n",
       "      <th></th>\n",
       "      <th></th>\n",
       "      <th></th>\n",
       "      <th></th>\n",
       "      <th></th>\n",
       "      <th></th>\n",
       "      <th></th>\n",
       "    </tr>\n",
       "  </thead>\n",
       "  <tbody>\n",
       "    <tr>\n",
       "      <th>ABW</th>\n",
       "      <td>71.066</td>\n",
       "      <td>71.722</td>\n",
       "      <td>71.959</td>\n",
       "      <td>72.105</td>\n",
       "      <td>72.251</td>\n",
       "      <td>72.388</td>\n",
       "      <td>72.462</td>\n",
       "      <td>72.789</td>\n",
       "      <td>73.047</td>\n",
       "      <td>73.023</td>\n",
       "    </tr>\n",
       "    <tr>\n",
       "      <th>ARG</th>\n",
       "      <td>68.564</td>\n",
       "      <td>68.976</td>\n",
       "      <td>68.937</td>\n",
       "      <td>69.267</td>\n",
       "      <td>69.195</td>\n",
       "      <td>69.651</td>\n",
       "      <td>70.119</td>\n",
       "      <td>70.564</td>\n",
       "      <td>71.052</td>\n",
       "      <td>71.425</td>\n",
       "    </tr>\n",
       "    <tr>\n",
       "      <th>ATG</th>\n",
       "      <td>73.183</td>\n",
       "      <td>73.338</td>\n",
       "      <td>73.458</td>\n",
       "      <td>73.471</td>\n",
       "      <td>73.524</td>\n",
       "      <td>73.566</td>\n",
       "      <td>73.556</td>\n",
       "      <td>73.554</td>\n",
       "      <td>73.530</td>\n",
       "      <td>73.416</td>\n",
       "    </tr>\n",
       "    <tr>\n",
       "      <th>BHS</th>\n",
       "      <td>67.521</td>\n",
       "      <td>67.746</td>\n",
       "      <td>68.436</td>\n",
       "      <td>69.161</td>\n",
       "      <td>69.351</td>\n",
       "      <td>69.257</td>\n",
       "      <td>69.285</td>\n",
       "      <td>68.924</td>\n",
       "      <td>69.215</td>\n",
       "      <td>69.598</td>\n",
       "    </tr>\n",
       "    <tr>\n",
       "      <th>BLZ</th>\n",
       "      <td>67.756</td>\n",
       "      <td>68.068</td>\n",
       "      <td>67.955</td>\n",
       "      <td>68.140</td>\n",
       "      <td>68.640</td>\n",
       "      <td>69.462</td>\n",
       "      <td>69.704</td>\n",
       "      <td>70.198</td>\n",
       "      <td>70.781</td>\n",
       "      <td>70.724</td>\n",
       "    </tr>\n",
       "  </tbody>\n",
       "</table>\n",
       "</div>"
      ],
      "text/plain": [
       "         YR1980  YR1981  YR1982  YR1983  YR1984  YR1985  YR1986  YR1987  \\\n",
       "economy                                                                   \n",
       "ABW      71.066  71.722  71.959  72.105  72.251  72.388  72.462  72.789   \n",
       "ARG      68.564  68.976  68.937  69.267  69.195  69.651  70.119  70.564   \n",
       "ATG      73.183  73.338  73.458  73.471  73.524  73.566  73.556  73.554   \n",
       "BHS      67.521  67.746  68.436  69.161  69.351  69.257  69.285  68.924   \n",
       "BLZ      67.756  68.068  67.955  68.140  68.640  69.462  69.704  70.198   \n",
       "\n",
       "         YR1988  YR1989  \n",
       "economy                  \n",
       "ABW      73.047  73.023  \n",
       "ARG      71.052  71.425  \n",
       "ATG      73.530  73.416  \n",
       "BHS      69.215  69.598  \n",
       "BLZ      70.781  70.724  "
      ]
     },
     "execution_count": 14,
     "metadata": {},
     "output_type": "execute_result"
    }
   ],
   "source": [
    "df_expectancy.head().iloc[:, 0:10] # sólo las primeras columnas, por presentación"
   ]
  },
  {
   "cell_type": "markdown",
   "id": "390b53c4d7950cd6",
   "metadata": {
    "collapsed": false,
    "jupyter": {
     "outputs_hidden": false
    }
   },
   "source": [
    "Ahora unimos los datos de expectativa de vida con los de PIB per Cápita; pero antes debemos cambiar los nombres de la columnas para evitar confusión."
   ]
  },
  {
   "cell_type": "code",
   "execution_count": 15,
   "id": "35c38f978be8b7fc",
   "metadata": {
    "ExecuteTime": {
     "end_time": "2023-12-22T22:05:41.074735700Z",
     "start_time": "2023-12-22T22:05:41.040418Z"
    },
    "collapsed": false,
    "jupyter": {
     "outputs_hidden": false
    }
   },
   "outputs": [],
   "source": [
    "cols = list(map(lambda x: str.replace(x, 'YR', 'GDP_'), df_gdp.columns))\n",
    "df_gdp.columns = cols\n",
    "\n",
    "cols = list(map(lambda x: str.replace(x, 'YR', 'EXP_'), df_expectancy.columns))\n",
    "df_expectancy.columns = cols"
   ]
  },
  {
   "cell_type": "code",
   "execution_count": 16,
   "id": "395505f3c2803be1",
   "metadata": {
    "ExecuteTime": {
     "end_time": "2023-12-22T22:05:44.195218700Z",
     "start_time": "2023-12-22T22:05:44.164058600Z"
    },
    "collapsed": false,
    "jupyter": {
     "outputs_hidden": false
    }
   },
   "outputs": [],
   "source": [
    "df_data = pd.merge(left=df_gdp, right=df_expectancy, on='economy')"
   ]
  },
  {
   "cell_type": "markdown",
   "id": "ce88484f1f833797",
   "metadata": {
    "collapsed": false,
    "jupyter": {
     "outputs_hidden": false
    }
   },
   "source": [
    "## Elaboración de los Gráficos\n",
    "\n",
    "Ahora presentemos la relación entre expectativa de vida y PIB per Cápita de manera gráfica para el año 2000. Se puede ver que los países con mayor PIB parecen tener mayor expectativa de vida, pero la relación no es clara."
   ]
  },
  {
   "cell_type": "code",
   "execution_count": 18,
   "id": "f9b89e3eb2885eb0",
   "metadata": {
    "ExecuteTime": {
     "end_time": "2023-12-22T22:14:59.467151300Z",
     "start_time": "2023-12-22T22:14:59.379325200Z"
    },
    "collapsed": false,
    "jupyter": {
     "outputs_hidden": false
    }
   },
   "outputs": [
    {
     "data": {
      "image/png": "[encoded data removed]",
      "text/plain": [
       "<Figure size 640x480 with 1 Axes>"
      ]
     },
     "metadata": {},
     "output_type": "display_data"
    }
   ],
   "source": [
    "sns.set_theme()\n",
    "ax = sns.scatterplot(df_data, x=df_data['GDP_2000'], y=df_data['EXP_2000'])\n",
    "for i, r in df_data.iterrows():\n",
    "    ax.text(r['GDP_2000']+0.08, r['EXP_2000'], i, size=8)\n",
    "\n",
    "plt.ylabel('Años')\n",
    "plt.xlabel('Miles USD Constantes (2015)')\n",
    "plt.title('Exp. de Vida vs. PIB per cápita (Año 2000)\\nEscala log-log', size=14)\n",
    "plt.grid()\n",
    "plt.yticks(ticks=[55, 60, 65, 70, 75, 80], labels=[55, 60, 65, 70, 75, 80])\n",
    "plt.xticks(ticks=[1250, 2500, 5000, 10000, 20000, 40000], labels=[1.25, 2.5, 5, 10, 20, 40])\n",
    "plt.grid()\n",
    "plt.show()\n",
    "plt.show()"
   ]
  },
  {
   "cell_type": "markdown",
   "id": "bcd723d818a0d21",
   "metadata": {
    "collapsed": false,
    "jupyter": {
     "outputs_hidden": false
    }
   },
   "source": [
    "Usemos entonces una escala logarítmica, esta permite apreciar de manera más clara cambios relativos en lugar de absolutos y agreguemos el identificador de cada país. En este gráfico se puede apreciar una relación mucho más clara."
   ]
  },
  {
   "cell_type": "code",
   "execution_count": 19,
   "id": "dda0771231937a1f",
   "metadata": {
    "ExecuteTime": {
     "end_time": "2023-12-22T23:53:07.146002200Z",
     "start_time": "2023-12-22T23:53:06.949903800Z"
    },
    "collapsed": false,
    "jupyter": {
     "outputs_hidden": false
    }
   },
   "outputs": [
    {
     "data": {
      "image/png": "[encoded data removed]",
      "text/plain": [
       "<Figure size 640x480 with 1 Axes>"
      ]
     },
     "metadata": {},
     "output_type": "display_data"
    }
   ],
   "source": [
    "ax1 = sns.scatterplot(df_data, x=df_data['GDP_2000'], y=df_data['EXP_2000'], s=8)\n",
    "\n",
    "pos_gdp = df_data.columns.get_loc('GDP_2000')\n",
    "pos_exp = df_data.columns.get_loc('EXP_2000')\n",
    "# Economy is the index\n",
    "pos_eco = 0\n",
    "\n",
    "for i, r in df_data.iterrows():\n",
    "    ax1.text(r['GDP_2000']+0.08, r['EXP_2000'], i, size=8)\n",
    "\n",
    "ax1.set(xscale=\"log\")\n",
    "plt.ylabel('Años')\n",
    "plt.xlabel('Miles USD Constantes (2015)')\n",
    "plt.title('Exp. de Vida vs. PIB per cápita (Año 2000)\\nPIB en escala log', size=14)\n",
    "plt.grid()\n",
    "plt.yticks(ticks=[55, 60, 65, 70, 75, 80], labels=[55, 60, 65, 70, 75, 80])\n",
    "plt.xticks(ticks=[1250, 2500, 5000, 10000, 20000, 40000], labels=[1.25, 2.5, 5, 10, 20, 40])\n",
    "plt.grid()\n",
    "plt.show()"
   ]
  },
  {
   "cell_type": "markdown",
   "id": "3847fd3d19c4cc1c",
   "metadata": {
    "collapsed": false,
    "jupyter": {
     "outputs_hidden": false
    }
   },
   "source": [
    "Ahora el mismo gráfico para el año 2020. Se puede ver como algunos países han tenido un incremento tanto en PIB como en expectativa de vida; adicionalmente, la tendencia parecer ser la misma en ambos años."
   ]
  },
  {
   "cell_type": "code",
   "execution_count": 20,
   "id": "c53b3135ee256d6a",
   "metadata": {
    "ExecuteTime": {
     "end_time": "2023-12-23T00:30:49.870459100Z",
     "start_time": "2023-12-23T00:30:49.614242300Z"
    },
    "collapsed": false,
    "jupyter": {
     "outputs_hidden": false
    }
   },
   "outputs": [
    {
     "data": {
      "image/png": "[encoded data removed]",
      "text/plain": [
       "<Figure size 640x480 with 1 Axes>"
      ]
     },
     "metadata": {},
     "output_type": "display_data"
    }
   ],
   "source": [
    "ax1 = sns.scatterplot(df_data, x=df_data['GDP_2020'], y=df_data['EXP_2020'], s=8)\n",
    "\n",
    "pos_gdp = df_data.columns.get_loc('GDP_2020')\n",
    "pos_exp = df_data.columns.get_loc('EXP_2020')\n",
    "# Economy is the index\n",
    "pos_eco = 0\n",
    "ir = None\n",
    "for i, r in df_data.iterrows():\n",
    "    ax1.text(r['GDP_2020']+0.08, r['EXP_2020'], i, size=8)\n",
    "\n",
    "\n",
    "ax1.set(xscale=\"log\")\n",
    "plt.ylabel('Años')\n",
    "plt.xlabel('Miles USD Constantes (2015)')\n",
    "plt.title('Exp. de Vida vs. PIB per cápita (Año 2020)\\nPIB en escala log', size=14)\n",
    "plt.grid()\n",
    "plt.yticks(ticks=[55, 60, 65, 70, 75, 80], labels=[55, 60, 65, 70, 75, 80])\n",
    "plt.xticks(ticks=[1250, 2500, 5000, 10000, 20000, 40000], labels=[1.25, 2.5, 5, 10, 20, 40])\n",
    "plt.grid()\n",
    "plt.savefig('exp_vs_pib',dpi=2000)"
   ]
  },
  {
   "cell_type": "markdown",
   "id": "6f1c36d6c4460034",
   "metadata": {
    "collapsed": false,
    "jupyter": {
     "outputs_hidden": false
    }
   },
   "source": [
    "## Regresión Lineal Simple para Evaluar la Relación Expectativa de Vida vs. PIB per Cápita\n",
    "\n",
    "Ahora planteamos un modelo de regresión lineal simple para cuantificar la intensidad de la relación entre las variables y qué tan sólida es la evidencia estadística. Al ser un modelo Lineal-Logarítmico nos está diciendo que, en promedio, cada 1% adicional de PIB per Cápita de un país de Latinoamérica en el 2000 significó un aumento **expectativa de vida aumentó en 3.48 años** (el coeficiente de np.log(GDP_2000)). Adicionalmente, el modelo explica el 38% de la **varianza de la expectativa de vida entre los países de Latinoamérica para el año 2000**. En este modelo, el intercepto corresponde a la expectativa de vida cuando la variable independiente, el **logaritmo** del PIB per Cápita, es igual a cero; es decir, cuando la variable en su escala original es igual a 1. En otras palabras, se puede interpretar como la expectativa de vida sin considerar el efecto de la **variación porcentual** del PIB per Cápita.\n",
    "\n",
    "$$ Intercepto \\implies ln(PIB) = 0 $$\n",
    "$$ ln(PIB) = 0 \\implies e^{ln(PIB)} = e^0 $$\n",
    "$$ PIB = 1$$\n",
    "\n",
    "Finalmente, la prueba de <cite>[**Jarque-Berra**][1]</cite> arroja un valor-p de 0.797, por lo que no se puede rechazar la hipótesis nula de residuales distribuídos normalmente; y el estadístico de <cite>[**Durbin-Watson**][2]</cite> presenta un valor de 1.456, el cual es superior al valor crítico de 1.291 para este número de observaciones y grados de libertad. En otras palabras, a pesar de su simplicidad (parsimonia en términos estadísticos), **este modelo cumple con todos los supuestos tradicionales de la Regresión Lineal**.\n",
    "\n",
    "[1]: https://en.wikipedia.org/wiki/Jarque%E2%80%93Bera_test\n",
    "[2]: https://en.wikipedia.org/wiki/Durbin%E2%80%93Watson_statistic\n"
   ]
  },
  {
   "cell_type": "code",
   "execution_count": 21,
   "id": "91556672557d86a2",
   "metadata": {
    "ExecuteTime": {
     "end_time": "2023-12-23T00:30:53.022266900Z",
     "start_time": "2023-12-23T00:30:52.986911600Z"
    },
    "collapsed": false,
    "jupyter": {
     "outputs_hidden": false
    }
   },
   "outputs": [
    {
     "data": {
      "text/html": [
       "<table class=\"simpletable\">\n",
       "<caption>OLS Regression Results</caption>\n",
       "<tr>\n",
       "  <th>Dep. Variable:</th>        <td>EXP_2000</td>     <th>  R-squared:         </th> <td>   0.402</td>\n",
       "</tr>\n",
       "<tr>\n",
       "  <th>Model:</th>                   <td>OLS</td>       <th>  Adj. R-squared:    </th> <td>   0.383</td>\n",
       "</tr>\n",
       "<tr>\n",
       "  <th>Method:</th>             <td>Least Squares</td>  <th>  F-statistic:       </th> <td>   20.84</td>\n",
       "</tr>\n",
       "<tr>\n",
       "  <th>Date:</th>             <td>Sat, 23 Dec 2023</td> <th>  Prob (F-statistic):</th> <td>7.44e-05</td>\n",
       "</tr>\n",
       "<tr>\n",
       "  <th>Time:</th>                 <td>14:51:11</td>     <th>  Log-Likelihood:    </th> <td> -85.058</td>\n",
       "</tr>\n",
       "<tr>\n",
       "  <th>No. Observations:</th>      <td>    33</td>      <th>  AIC:               </th> <td>   174.1</td>\n",
       "</tr>\n",
       "<tr>\n",
       "  <th>Df Residuals:</th>          <td>    31</td>      <th>  BIC:               </th> <td>   177.1</td>\n",
       "</tr>\n",
       "<tr>\n",
       "  <th>Df Model:</th>              <td>     1</td>      <th>                     </th>     <td> </td>   \n",
       "</tr>\n",
       "<tr>\n",
       "  <th>Covariance Type:</th>      <td>nonrobust</td>    <th>                     </th>     <td> </td>   \n",
       "</tr>\n",
       "</table>\n",
       "<table class=\"simpletable\">\n",
       "<tr>\n",
       "          <td></td>            <th>coef</th>     <th>std err</th>      <th>t</th>      <th>P>|t|</th>  <th>[0.025</th>    <th>0.975]</th>  \n",
       "</tr>\n",
       "<tr>\n",
       "  <th>Intercept</th>        <td>   40.5786</td> <td>    6.651</td> <td>    6.101</td> <td> 0.000</td> <td>   27.014</td> <td>   54.143</td>\n",
       "</tr>\n",
       "<tr>\n",
       "  <th>np.log(GDP_2000)</th> <td>    3.4811</td> <td>    0.763</td> <td>    4.565</td> <td> 0.000</td> <td>    1.926</td> <td>    5.036</td>\n",
       "</tr>\n",
       "</table>\n",
       "<table class=\"simpletable\">\n",
       "<tr>\n",
       "  <th>Omnibus:</th>       <td> 0.545</td> <th>  Durbin-Watson:     </th> <td>   1.456</td>\n",
       "</tr>\n",
       "<tr>\n",
       "  <th>Prob(Omnibus):</th> <td> 0.762</td> <th>  Jarque-Bera (JB):  </th> <td>   0.454</td>\n",
       "</tr>\n",
       "<tr>\n",
       "  <th>Skew:</th>          <td>-0.267</td> <th>  Prob(JB):          </th> <td>   0.797</td>\n",
       "</tr>\n",
       "<tr>\n",
       "  <th>Kurtosis:</th>      <td> 2.787</td> <th>  Cond. No.          </th> <td>    103.</td>\n",
       "</tr>\n",
       "</table><br/><br/>Notes:<br/>[1] Standard Errors assume that the covariance matrix of the errors is correctly specified."
      ],
      "text/latex": [
       "\\begin{center}\n",
       "\\begin{tabular}{lclc}\n",
       "\\toprule\n",
       "\\textbf{Dep. Variable:}    &    EXP\\_2000     & \\textbf{  R-squared:         } &     0.402   \\\\\n",
       "\\textbf{Model:}            &       OLS        & \\textbf{  Adj. R-squared:    } &     0.383   \\\\\n",
       "\\textbf{Method:}           &  Least Squares   & \\textbf{  F-statistic:       } &     20.84   \\\\\n",
       "\\textbf{Date:}             & Sat, 23 Dec 2023 & \\textbf{  Prob (F-statistic):} &  7.44e-05   \\\\\n",
       "\\textbf{Time:}             &     14:51:11     & \\textbf{  Log-Likelihood:    } &   -85.058   \\\\\n",
       "\\textbf{No. Observations:} &          33      & \\textbf{  AIC:               } &     174.1   \\\\\n",
       "\\textbf{Df Residuals:}     &          31      & \\textbf{  BIC:               } &     177.1   \\\\\n",
       "\\textbf{Df Model:}         &           1      & \\textbf{                     } &             \\\\\n",
       "\\textbf{Covariance Type:}  &    nonrobust     & \\textbf{                     } &             \\\\\n",
       "\\bottomrule\n",
       "\\end{tabular}\n",
       "\\begin{tabular}{lcccccc}\n",
       "                           & \\textbf{coef} & \\textbf{std err} & \\textbf{t} & \\textbf{P$> |$t$|$} & \\textbf{[0.025} & \\textbf{0.975]}  \\\\\n",
       "\\midrule\n",
       "\\textbf{Intercept}         &      40.5786  &        6.651     &     6.101  &         0.000        &       27.014    &       54.143     \\\\\n",
       "\\textbf{np.log(GDP\\_2000)} &       3.4811  &        0.763     &     4.565  &         0.000        &        1.926    &        5.036     \\\\\n",
       "\\bottomrule\n",
       "\\end{tabular}\n",
       "\\begin{tabular}{lclc}\n",
       "\\textbf{Omnibus:}       &  0.545 & \\textbf{  Durbin-Watson:     } &    1.456  \\\\\n",
       "\\textbf{Prob(Omnibus):} &  0.762 & \\textbf{  Jarque-Bera (JB):  } &    0.454  \\\\\n",
       "\\textbf{Skew:}          & -0.267 & \\textbf{  Prob(JB):          } &    0.797  \\\\\n",
       "\\textbf{Kurtosis:}      &  2.787 & \\textbf{  Cond. No.          } &     103.  \\\\\n",
       "\\bottomrule\n",
       "\\end{tabular}\n",
       "%\\caption{OLS Regression Results}\n",
       "\\end{center}\n",
       "\n",
       "Notes: \\newline\n",
       " [1] Standard Errors assume that the covariance matrix of the errors is correctly specified."
      ],
      "text/plain": [
       "<class 'statsmodels.iolib.summary.Summary'>\n",
       "\"\"\"\n",
       "                            OLS Regression Results                            \n",
       "==============================================================================\n",
       "Dep. Variable:               EXP_2000   R-squared:                       0.402\n",
       "Model:                            OLS   Adj. R-squared:                  0.383\n",
       "Method:                 Least Squares   F-statistic:                     20.84\n",
       "Date:                Sat, 23 Dec 2023   Prob (F-statistic):           7.44e-05\n",
       "Time:                        14:51:11   Log-Likelihood:                -85.058\n",
       "No. Observations:                  33   AIC:                             174.1\n",
       "Df Residuals:                      31   BIC:                             177.1\n",
       "Df Model:                           1                                         \n",
       "Covariance Type:            nonrobust                                         \n",
       "====================================================================================\n",
       "                       coef    std err          t      P>|t|      [0.025      0.975]\n",
       "------------------------------------------------------------------------------------\n",
       "Intercept           40.5786      6.651      6.101      0.000      27.014      54.143\n",
       "np.log(GDP_2000)     3.4811      0.763      4.565      0.000       1.926       5.036\n",
       "==============================================================================\n",
       "Omnibus:                        0.545   Durbin-Watson:                   1.456\n",
       "Prob(Omnibus):                  0.762   Jarque-Bera (JB):                0.454\n",
       "Skew:                          -0.267   Prob(JB):                        0.797\n",
       "Kurtosis:                       2.787   Cond. No.                         103.\n",
       "==============================================================================\n",
       "\n",
       "Notes:\n",
       "[1] Standard Errors assume that the covariance matrix of the errors is correctly specified.\n",
       "\"\"\""
      ]
     },
     "execution_count": 21,
     "metadata": {},
     "output_type": "execute_result"
    }
   ],
   "source": [
    "import numpy as np\n",
    "model_2000 = smf.ols(formula='(EXP_2000) ~ np.log(GDP_2000)', data=df_data).fit()\n",
    "model_2000.summary()"
   ]
  },
  {
   "cell_type": "markdown",
   "id": "d7db34aa-3d8d-44cf-a685-73fa489cbbc1",
   "metadata": {
    "ExecuteTime": {
     "end_time": "2023-12-22T23:25:59.897996400Z",
     "start_time": "2023-12-22T23:25:59.836917800Z"
    },
    "collapsed": false,
    "jupyter": {
     "outputs_hidden": false
    }
   },
   "source": [
    "### Año 2020\n",
    "Para finalizar, realicemos el mismo ejercicio con el año 2020; aunque disminuyó el valor del coeficiente la capacidad explicativa del modelo subió a 42% manteniendo su validez en el diagnóstico de residuales."
   ]
  },
  {
   "cell_type": "code",
   "execution_count": 22,
   "id": "25929283bbe38b4b",
   "metadata": {
    "ExecuteTime": {
     "end_time": "2023-12-23T00:30:41.606783700Z",
     "start_time": "2023-12-23T00:30:41.567650300Z"
    },
    "collapsed": false,
    "jupyter": {
     "outputs_hidden": false
    }
   },
   "outputs": [
    {
     "data": {
      "text/html": [
       "<table class=\"simpletable\">\n",
       "<caption>OLS Regression Results</caption>\n",
       "<tr>\n",
       "  <th>Dep. Variable:</th>        <td>EXP_2020</td>     <th>  R-squared:         </th> <td>   0.439</td>\n",
       "</tr>\n",
       "<tr>\n",
       "  <th>Model:</th>                   <td>OLS</td>       <th>  Adj. R-squared:    </th> <td>   0.421</td>\n",
       "</tr>\n",
       "<tr>\n",
       "  <th>Method:</th>             <td>Least Squares</td>  <th>  F-statistic:       </th> <td>   24.28</td>\n",
       "</tr>\n",
       "<tr>\n",
       "  <th>Date:</th>             <td>Sat, 23 Dec 2023</td> <th>  Prob (F-statistic):</th> <td>2.64e-05</td>\n",
       "</tr>\n",
       "<tr>\n",
       "  <th>Time:</th>                 <td>14:51:12</td>     <th>  Log-Likelihood:    </th> <td> -79.606</td>\n",
       "</tr>\n",
       "<tr>\n",
       "  <th>No. Observations:</th>      <td>    33</td>      <th>  AIC:               </th> <td>   163.2</td>\n",
       "</tr>\n",
       "<tr>\n",
       "  <th>Df Residuals:</th>          <td>    31</td>      <th>  BIC:               </th> <td>   166.2</td>\n",
       "</tr>\n",
       "<tr>\n",
       "  <th>Df Model:</th>              <td>     1</td>      <th>                     </th>     <td> </td>   \n",
       "</tr>\n",
       "<tr>\n",
       "  <th>Covariance Type:</th>      <td>nonrobust</td>    <th>                     </th>     <td> </td>   \n",
       "</tr>\n",
       "</table>\n",
       "<table class=\"simpletable\">\n",
       "<tr>\n",
       "          <td></td>            <th>coef</th>     <th>std err</th>      <th>t</th>      <th>P>|t|</th>  <th>[0.025</th>    <th>0.975]</th>  \n",
       "</tr>\n",
       "<tr>\n",
       "  <th>Intercept</th>        <td>   42.5335</td> <td>    6.303</td> <td>    6.748</td> <td> 0.000</td> <td>   29.678</td> <td>   55.389</td>\n",
       "</tr>\n",
       "<tr>\n",
       "  <th>np.log(GDP_2020)</th> <td>    3.4693</td> <td>    0.704</td> <td>    4.928</td> <td> 0.000</td> <td>    2.033</td> <td>    4.905</td>\n",
       "</tr>\n",
       "</table>\n",
       "<table class=\"simpletable\">\n",
       "<tr>\n",
       "  <th>Omnibus:</th>       <td> 2.672</td> <th>  Durbin-Watson:     </th> <td>   2.040</td>\n",
       "</tr>\n",
       "<tr>\n",
       "  <th>Prob(Omnibus):</th> <td> 0.263</td> <th>  Jarque-Bera (JB):  </th> <td>   2.262</td>\n",
       "</tr>\n",
       "<tr>\n",
       "  <th>Skew:</th>          <td>-0.630</td> <th>  Prob(JB):          </th> <td>   0.323</td>\n",
       "</tr>\n",
       "<tr>\n",
       "  <th>Kurtosis:</th>      <td> 2.761</td> <th>  Cond. No.          </th> <td>    118.</td>\n",
       "</tr>\n",
       "</table><br/><br/>Notes:<br/>[1] Standard Errors assume that the covariance matrix of the errors is correctly specified."
      ],
      "text/latex": [
       "\\begin{center}\n",
       "\\begin{tabular}{lclc}\n",
       "\\toprule\n",
       "\\textbf{Dep. Variable:}    &    EXP\\_2020     & \\textbf{  R-squared:         } &     0.439   \\\\\n",
       "\\textbf{Model:}            &       OLS        & \\textbf{  Adj. R-squared:    } &     0.421   \\\\\n",
       "\\textbf{Method:}           &  Least Squares   & \\textbf{  F-statistic:       } &     24.28   \\\\\n",
       "\\textbf{Date:}             & Sat, 23 Dec 2023 & \\textbf{  Prob (F-statistic):} &  2.64e-05   \\\\\n",
       "\\textbf{Time:}             &     14:51:12     & \\textbf{  Log-Likelihood:    } &   -79.606   \\\\\n",
       "\\textbf{No. Observations:} &          33      & \\textbf{  AIC:               } &     163.2   \\\\\n",
       "\\textbf{Df Residuals:}     &          31      & \\textbf{  BIC:               } &     166.2   \\\\\n",
       "\\textbf{Df Model:}         &           1      & \\textbf{                     } &             \\\\\n",
       "\\textbf{Covariance Type:}  &    nonrobust     & \\textbf{                     } &             \\\\\n",
       "\\bottomrule\n",
       "\\end{tabular}\n",
       "\\begin{tabular}{lcccccc}\n",
       "                           & \\textbf{coef} & \\textbf{std err} & \\textbf{t} & \\textbf{P$> |$t$|$} & \\textbf{[0.025} & \\textbf{0.975]}  \\\\\n",
       "\\midrule\n",
       "\\textbf{Intercept}         &      42.5335  &        6.303     &     6.748  &         0.000        &       29.678    &       55.389     \\\\\n",
       "\\textbf{np.log(GDP\\_2020)} &       3.4693  &        0.704     &     4.928  &         0.000        &        2.033    &        4.905     \\\\\n",
       "\\bottomrule\n",
       "\\end{tabular}\n",
       "\\begin{tabular}{lclc}\n",
       "\\textbf{Omnibus:}       &  2.672 & \\textbf{  Durbin-Watson:     } &    2.040  \\\\\n",
       "\\textbf{Prob(Omnibus):} &  0.263 & \\textbf{  Jarque-Bera (JB):  } &    2.262  \\\\\n",
       "\\textbf{Skew:}          & -0.630 & \\textbf{  Prob(JB):          } &    0.323  \\\\\n",
       "\\textbf{Kurtosis:}      &  2.761 & \\textbf{  Cond. No.          } &     118.  \\\\\n",
       "\\bottomrule\n",
       "\\end{tabular}\n",
       "%\\caption{OLS Regression Results}\n",
       "\\end{center}\n",
       "\n",
       "Notes: \\newline\n",
       " [1] Standard Errors assume that the covariance matrix of the errors is correctly specified."
      ],
      "text/plain": [
       "<class 'statsmodels.iolib.summary.Summary'>\n",
       "\"\"\"\n",
       "                            OLS Regression Results                            \n",
       "==============================================================================\n",
       "Dep. Variable:               EXP_2020   R-squared:                       0.439\n",
       "Model:                            OLS   Adj. R-squared:                  0.421\n",
       "Method:                 Least Squares   F-statistic:                     24.28\n",
       "Date:                Sat, 23 Dec 2023   Prob (F-statistic):           2.64e-05\n",
       "Time:                        14:51:12   Log-Likelihood:                -79.606\n",
       "No. Observations:                  33   AIC:                             163.2\n",
       "Df Residuals:                      31   BIC:                             166.2\n",
       "Df Model:                           1                                         \n",
       "Covariance Type:            nonrobust                                         \n",
       "====================================================================================\n",
       "                       coef    std err          t      P>|t|      [0.025      0.975]\n",
       "------------------------------------------------------------------------------------\n",
       "Intercept           42.5335      6.303      6.748      0.000      29.678      55.389\n",
       "np.log(GDP_2020)     3.4693      0.704      4.928      0.000       2.033       4.905\n",
       "==============================================================================\n",
       "Omnibus:                        2.672   Durbin-Watson:                   2.040\n",
       "Prob(Omnibus):                  0.263   Jarque-Bera (JB):                2.262\n",
       "Skew:                          -0.630   Prob(JB):                        0.323\n",
       "Kurtosis:                       2.761   Cond. No.                         118.\n",
       "==============================================================================\n",
       "\n",
       "Notes:\n",
       "[1] Standard Errors assume that the covariance matrix of the errors is correctly specified.\n",
       "\"\"\""
      ]
     },
     "execution_count": 22,
     "metadata": {},
     "output_type": "execute_result"
    }
   ],
   "source": [
    "import numpy as np\n",
    "model_2020 = smf.ols(formula='(EXP_2020) ~ np.log(GDP_2020)', data=df_data).fit()\n",
    "model_2020.summary()\n"
   ]
  }
 ],
 "metadata": {
  "kernelspec": {
   "display_name": "Python 3 (ipykernel)",
   "language": "python",
   "name": "python3"
  },
  "language_info": {
   "codemirror_mode": {
    "name": "ipython",
    "version": 3
   },
   "file_extension": ".py",
   "mimetype": "text/x-python",
   "name": "python",
   "nbconvert_exporter": "python",
   "pygments_lexer": "ipython3",
   "version": "3.12.0"
  }
 },
 "nbformat": 4,
 "nbformat_minor": 5
}
